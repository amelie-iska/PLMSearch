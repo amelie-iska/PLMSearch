{
 "cells": [
  {
   "attachments": {},
   "cell_type": "markdown",
   "metadata": {},
   "source": [
    "# Build your PLMSearch locally 🧪\n",
    "\n",
    "**Notice: The experiment are implement on a server with an `56-core Intel(R) Xeon(R) CPU E5-2680 v4 @ 2.40GHz and 252 GB RAM memory`.**\n",
    "\n",
    "## Quick links\n",
    "\n",
    "* [SS-predictor pipeline](#1)\n",
    "  * [Search against self](#1-1)\n",
    "  * [Search against Swiss-Prot](#1-2)\n",
    "* [PLMSearch pipeline](#2)\n",
    "  * [Search against self](#2-1)\n",
    "  * [Search against Swiss-Prot](#2-2)\n",
    "* [TM-align compute with Spark](#3)\n",
    "* [Start from Fasta (preprocessing)](#4)\n",
    "* [Train your own SS-predictor](#5)"
   ]
  },
  {
   "attachments": {},
   "cell_type": "markdown",
   "metadata": {},
   "source": [
    "## SS-predictor pipeline\n",
    "<span id=\"1\"></span>\n",
    "<div align=center><img src=\"scientist_figures/workflow_img/similarity.png\" width=\"90%\" height=\"90%\" /></div>"
   ]
  },
  {
   "cell_type": "markdown",
   "metadata": {},
   "source": [
    "### 1. Search against self\n",
    "<span id=\"1-1\"></span>"
   ]
  },
  {
   "cell_type": "code",
   "execution_count": 1,
   "metadata": {},
   "outputs": [
    {
     "name": "stdout",
     "output_type": "stream",
     "text": [
      "None of GPU is selected.\n",
      "query protein list: 100%|██████████████████████| 5/5 [00:00<00:00, 90394.48it/s]\n",
      "\u001b[32m[I 230403 23:30:28 main_similarity:141]\u001b[39m Sort end.\n",
      "Esm embedding generate time cost: 0.4538588523864746 s\n"
     ]
    }
   ],
   "source": [
    "!python ./plmsearch/main_similarity.py \\\n",
    "-qer './example/query_mean_esm_result_cpu.pkl' \\\n",
    "-ter './example/query_mean_esm_result_cpu.pkl' \\\n",
    "-smp './plmsearch_data/esm_ss_predict/model_scop_tri.sav' \\\n",
    "-d \\\n",
    "-opr './example/ss_predictor_self'"
   ]
  },
  {
   "cell_type": "markdown",
   "metadata": {},
   "source": [
    "### 2. Search against Swiss-Prot\n",
    "<span id=\"1-2\"></span>"
   ]
  },
  {
   "cell_type": "code",
   "execution_count": 2,
   "metadata": {},
   "outputs": [
    {
     "name": "stdout",
     "output_type": "stream",
     "text": [
      "None of GPU is selected.\n",
      "query protein list: 100%|█████████████████████████| 5/5 [01:05<00:00, 13.13s/it]\n",
      "\u001b[32m[I 230403 23:32:13 main_similarity:141]\u001b[39m Sort end.\n",
      "Esm embedding generate time cost: 108.95698642730713 s\n"
     ]
    }
   ],
   "source": [
    "!python ./plmsearch/main_similarity.py \\\n",
    "-qer './example/query_mean_esm_result_cpu.pkl' \\\n",
    "-ter './plmsearch_data/swissprot_to_swissprot/target_mean_esm_result_cpu.pkl' \\\n",
    "-smp './plmsearch_data/esm_ss_predict/model_scop_tri.sav' \\\n",
    "-d \\\n",
    "-opr './example/ss_predictor_swissprot'"
   ]
  },
  {
   "attachments": {},
   "cell_type": "markdown",
   "metadata": {},
   "source": [
    "## PLMSearch pipeline\n",
    "<span id=\"2\"></span>\n",
    "<div align=center><img src=\"scientist_figures/workflow_img/main.png\" width=\"90%\" height=\"90%\" /></div>"
   ]
  },
  {
   "cell_type": "markdown",
   "metadata": {},
   "source": [
    "### 1. Search against self\n",
    "<span id=\"2-1\"></span>"
   ]
  },
  {
   "cell_type": "code",
   "execution_count": 3,
   "metadata": {},
   "outputs": [
    {
     "name": "stdout",
     "output_type": "stream",
     "text": [
      "\u001b[32m[I 230403 23:32:19 main_pfam:13]\u001b[39m query protein num = 5\n",
      "\u001b[32m[I 230403 23:32:19 main_pfam:14]\u001b[39m target protein num = 5\n",
      "query protein list: 100%|█████████████████████| 5/5 [00:00<00:00, 109226.67it/s]\n"
     ]
    }
   ],
   "source": [
    "#Step 1. generate pfamclan prefilter result\n",
    "!python ./plmsearch/main_pfam.py \\\n",
    "-qpr './example/query_pfam_result.json' \\\n",
    "-tpr './example/query_pfam_result.json' \\\n",
    "-c \\\n",
    "-opr './example/pfamclan_self'"
   ]
  },
  {
   "cell_type": "code",
   "execution_count": 4,
   "metadata": {},
   "outputs": [
    {
     "name": "stdout",
     "output_type": "stream",
     "text": [
      "None of GPU is selected.\n",
      "Get prefilter list: 5it [00:00, 31254.13it/s]\n",
      "\u001b[32m[I 230403 23:32:20 main_similarity:104]\u001b[39m prefilter num = 5\n",
      "query protein list: 100%|██████████████████████| 5/5 [00:00<00:00, 97541.95it/s]\n",
      "\u001b[32m[I 230403 23:32:20 main_similarity:141]\u001b[39m Sort end.\n",
      "Esm embedding generate time cost: 0.08173346519470215 s\n"
     ]
    }
   ],
   "source": [
    "#Step 2. PLMSearch search\n",
    "!python ./plmsearch/main_similarity.py \\\n",
    "-qer './example/query_mean_esm_result_cpu.pkl' \\\n",
    "-ter './example/query_mean_esm_result_cpu.pkl' \\\n",
    "-smp './plmsearch_data/esm_ss_predict/model_scop_tri.sav' \\\n",
    "-ipr './example/pfamclan_self' \\\n",
    "-d \\\n",
    "-opr './example/plmsearch_self'"
   ]
  },
  {
   "cell_type": "markdown",
   "metadata": {},
   "source": [
    "### 2. Search against Swiss-Prot\n",
    "<span id=\"2-2\"></span>"
   ]
  },
  {
   "cell_type": "code",
   "execution_count": 5,
   "metadata": {},
   "outputs": [
    {
     "name": "stdout",
     "output_type": "stream",
     "text": [
      "\u001b[32m[I 230403 23:32:23 main_pfam:13]\u001b[39m query protein num = 5\n",
      "\u001b[32m[I 230403 23:32:23 main_pfam:14]\u001b[39m target protein num = 498654\n",
      "query protein list: 100%|█████████████████████████| 5/5 [00:01<00:00,  4.94it/s]\n"
     ]
    }
   ],
   "source": [
    "#Step 1. generate pfamclan prefilter result\n",
    "!python ./plmsearch/main_pfam.py \\\n",
    "-qpr './example/query_pfam_result.json' \\\n",
    "-tpr './plmsearch_data/swissprot_to_swissprot/target_pfam_result.json' \\\n",
    "-c \\\n",
    "-opr './example/pfamclan_swissprot'"
   ]
  },
  {
   "cell_type": "code",
   "execution_count": 6,
   "metadata": {},
   "outputs": [
    {
     "name": "stdout",
     "output_type": "stream",
     "text": [
      "None of GPU is selected.\n",
      "Get prefilter list: 19238it [00:00, 161942.30it/s]\n",
      "\u001b[32m[I 230403 23:33:02 main_similarity:104]\u001b[39m prefilter num = 19238\n",
      "query protein list: 100%|██████████████████████| 5/5 [00:00<00:00, 71089.90it/s]\n",
      "\u001b[32m[I 230403 23:33:03 main_similarity:141]\u001b[39m Sort end.\n",
      "Esm embedding generate time cost: 38.78334379196167 s\n"
     ]
    }
   ],
   "source": [
    "#Step 2. PLMSearch search\n",
    "!python ./plmsearch/main_similarity.py \\\n",
    "-qer './example/query_mean_esm_result_cpu.pkl' \\\n",
    "-ter './plmsearch_data/swissprot_to_swissprot/target_mean_esm_result_cpu.pkl' \\\n",
    "-smp './plmsearch_data/esm_ss_predict/model_scop_tri.sav' \\\n",
    "-ipr './example/pfamclan_swissprot' \\\n",
    "-d \\\n",
    "-opr './example/plmsearch_swissprot'"
   ]
  },
  {
   "attachments": {},
   "cell_type": "markdown",
   "metadata": {},
   "source": [
    "## TM-align compute with Spark\n",
    "<span id=\"3\"></span>\n",
    "<div align=center><img src=\"scientist_figures/workflow_img/tmalign_compute.png\" width=\"90%\" height=\"90%\" /></div>"
   ]
  },
  {
   "cell_type": "code",
   "execution_count": 7,
   "metadata": {},
   "outputs": [
    {
     "name": "stdout",
     "output_type": "stream",
     "text": [
      "/home/lw/plmsearch/plmsearch/pytmalign\n",
      "/home/lw/plmsearch\n",
      "/home/lw/plmsearch/plmsearch\n",
      "Get prefilter list: 6it [00:00, 32725.39it/s]\n",
      "100%|█████████████████████████████████████████| 6/6 [00:00<00:00, 206277.25it/s]\n",
      "23/04/03 23:33:10 WARN Utils: Your hostname, ZzStudio-7048-4x1080 resolves to a loopback address: 127.0.1.1; using 10.176.64.2 instead (on interface eth0)\n",
      "23/04/03 23:33:10 WARN Utils: Set SPARK_LOCAL_IP if you need to bind to another address\n",
      "Setting default log level to \"WARN\".\n",
      "To adjust logging level use sc.setLogLevel(newLevel). For SparkR, use setLogLevel(newLevel).\n",
      "23/04/03 23:33:12 WARN NativeCodeLoader: Unable to load native-hadoop library for your platform... using builtin-java classes where applicable\n",
      "Compute total time cost 11.454262018203735 s                                    \n",
      "/home/lw/plmsearch\n"
     ]
    }
   ],
   "source": [
    "#install\n",
    "%cd ./plmsearch/pytmalign/\n",
    "!python setup.py build_ext --inplace\n",
    "%cd ../..\n",
    "#tmalign compute with spark\n",
    "%cd ./plmsearch/\n",
    "!python tmalign_compute.py \\\n",
    "-qsd '../plmsearch_data/swissprot_to_swissprot/query_structure/' \\\n",
    "-tsd '../plmsearch_data/swissprot_to_swissprot/query_structure/' \\\n",
    "-ipr '../example/tmalign_compute/test' \\\n",
    "-s\n",
    "%cd .."
   ]
  },
  {
   "cell_type": "markdown",
   "metadata": {},
   "source": [
    "## Start from Fasta (preprocessing)\n",
    "<span id=\"4\"></span>"
   ]
  },
  {
   "cell_type": "markdown",
   "metadata": {},
   "source": [
    "### 1. Generate ESM-1b embedding"
   ]
  },
  {
   "cell_type": "code",
   "execution_count": 8,
   "metadata": {},
   "outputs": [
    {
     "name": "stdout",
     "output_type": "stream",
     "text": [
      "Read ./plmsearch_data/swissprot_to_swissprot/query_protein.fasta with 5 sequences\n",
      "Processing 1 of 1 batches (5 sequences)\n",
      "Esm embedding generate time cost: 20.87261128425598 s\n"
     ]
    }
   ],
   "source": [
    "#esm generate\n",
    "!python ./plmsearch/esm_generate.py \\\n",
    "-f './plmsearch_data/swissprot_to_swissprot/query_protein.fasta' \\\n",
    "-m './example/query_mean_esm_result_cpu.pkl' \\\n",
    "--nogpu"
   ]
  },
  {
   "cell_type": "markdown",
   "metadata": {},
   "source": [
    "### 2. Generate Pfam result"
   ]
  },
  {
   "cell_type": "code",
   "execution_count": 9,
   "metadata": {},
   "outputs": [
    {
     "name": "stdout",
     "output_type": "stream",
     "text": [
      "1680536020.3650196\n",
      "perl ./plmsearch_data/PfamScan/pfam_scan.pl -fasta ./plmsearch_data/swissprot_to_swissprot/query_protein.fasta -dir ./plmsearch_data/Pfam_db -outfile ./tmp.txt\n",
      "Pfam local generate time cost 12.641374349594116 s\n"
     ]
    }
   ],
   "source": [
    "#pfam generate\n",
    "!python ./plmsearch/pfam_local_generate.py \\\n",
    "-f './plmsearch_data/swissprot_to_swissprot/query_protein.fasta' \\\n",
    "-o './example/query_pfam_result.json'"
   ]
  },
  {
   "attachments": {},
   "cell_type": "markdown",
   "metadata": {},
   "source": [
    "## Train your own SS-predictor\n",
    "<span id=\"5\"></span>\n",
    "<div align=center><img src=\"scientist_figures/workflow_img/ss-predictor.png\" width=\"90%\" height=\"90%\" /></div>"
   ]
  },
  {
   "cell_type": "code",
   "execution_count": 10,
   "metadata": {},
   "outputs": [
    {
     "name": "stdout",
     "output_type": "stream",
     "text": [
      "None of GPU is selected.\n",
      "# training with esm_ss_predict_tri: ss_batch_size=100, epochs=20, lr=1e-05\n",
      "# save model path: ./example/ss_predictor/model_scop_tri_cpu.sav\n",
      "# loading esm result: ./plmsearch_data/esm_ss_predict/train/mean_esm_result_cpu.pkl\n",
      "# loading protein list file: ./plmsearch_data/esm_ss_predict/train/protein_list.txt\n",
      "# loading ss mat file: ./plmsearch_data/esm_ss_predict/train/ss_mat.npz\n",
      "\u001b[32m[I 230403 23:33:57 esm_ss_predict:44]\u001b[39m (8953, 8953) 40082581\n",
      "PPI: 100%|██████████████████████| 40082581/40082581 [02:05<00:00, 319947.98it/s]\n",
      "# loaded 40082581 sequence pairs\n",
      "# training model\n",
      "Epoch 1\n",
      "-------------------------------\n",
      "Train_mse_loss_avg: 0.064362  [    0/36074322]\n",
      "Train_mse_loss_avg: 0.005796  [10000/36074322]\n",
      "Train_mse_loss_avg: 0.002918  [20000/36074322]\n",
      "Train_mse_loss_avg: 0.004253  [30000/36074322]\n",
      "Train_mse_loss_avg: 0.003699  [40000/36074322]\n",
      "Train_mse_loss_avg: 0.002158  [50000/36074322]\n",
      "Train_mse_loss_avg: 0.003505  [60000/36074322]\n",
      "Train_mse_loss_avg: 0.003028  [70000/36074322]\n",
      "Train_mse_loss_avg: 0.002745  [80000/36074322]\n",
      "Train_mse_loss_avg: 0.002448  [90000/36074322]\n",
      "Train_mse_loss_avg: 0.003051  [100000/36074322]\n",
      "Train_mse_loss_avg: 0.002522  [110000/36074322]\n",
      "Train_mse_loss_avg: 0.002907  [120000/36074322]\n",
      "Train_mse_loss_avg: 0.003708  [130000/36074322]\n",
      "Train_mse_loss_avg: 0.007642  [140000/36074322]\n",
      "Train_mse_loss_avg: 0.003027  [150000/36074322]\n",
      "Train_mse_loss_avg: 0.001840  [160000/36074322]\n",
      "Train_mse_loss_avg: 0.002566  [170000/36074322]\n",
      "Train_mse_loss_avg: 0.002404  [180000/36074322]\n",
      "Train_mse_loss_avg: 0.003867  [190000/36074322]\n",
      "Train_mse_loss_avg: 0.001786  [200000/36074322]\n",
      "Train_mse_loss_avg: 0.001499  [210000/36074322]\n",
      "Train_mse_loss_avg: 0.002049  [220000/36074322]\n",
      "Train_mse_loss_avg: 0.002268  [230000/36074322]\n",
      "Train_mse_loss_avg: 0.007451  [240000/36074322]\n",
      "Train_mse_loss_avg: 0.001875  [250000/36074322]\n",
      "Train_mse_loss_avg: 0.002291  [260000/36074322]\n",
      "Train_mse_loss_avg: 0.001781  [270000/36074322]\n",
      "Train_mse_loss_avg: 0.002925  [280000/36074322]\n",
      "Train_mse_loss_avg: 0.002426  [290000/36074322]\n",
      "Train_mse_loss_avg: 0.001751  [300000/36074322]\n",
      "Train_mse_loss_avg: 0.001203  [310000/36074322]\n",
      "Train_mse_loss_avg: 0.002263  [320000/36074322]\n",
      "Train_mse_loss_avg: 0.003126  [330000/36074322]\n",
      "Train_mse_loss_avg: 0.002336  [340000/36074322]\n",
      "Train_mse_loss_avg: 0.002483  [350000/36074322]\n",
      "Train_mse_loss_avg: 0.001699  [360000/36074322]\n",
      "Train_mse_loss_avg: 0.001942  [370000/36074322]\n",
      "Train_mse_loss_avg: 0.001397  [380000/36074322]\n",
      "Train_mse_loss_avg: 0.002597  [390000/36074322]\n",
      "Train_mse_loss_avg: 0.003875  [400000/36074322]\n",
      "Train_mse_loss_avg: 0.001867  [410000/36074322]\n",
      "Train_mse_loss_avg: 0.002455  [420000/36074322]\n",
      "Train_mse_loss_avg: 0.001952  [430000/36074322]\n",
      "Train_mse_loss_avg: 0.001996  [440000/36074322]\n",
      "Train_mse_loss_avg: 0.002260  [450000/36074322]\n",
      "Train_mse_loss_avg: 0.002005  [460000/36074322]\n",
      "Train_mse_loss_avg: 0.001545  [470000/36074322]\n",
      "Train_mse_loss_avg: 0.002271  [480000/36074322]\n",
      "Train_mse_loss_avg: 0.001781  [490000/36074322]\n",
      "Train_mse_loss_avg: 0.003031  [500000/36074322]\n",
      "Train_mse_loss_avg: 0.001810  [510000/36074322]\n",
      "Train_mse_loss_avg: 0.002040  [520000/36074322]\n",
      "Train_mse_loss_avg: 0.001463  [530000/36074322]\n",
      "Train_mse_loss_avg: 0.001131  [540000/36074322]\n",
      "Train_mse_loss_avg: 0.002467  [550000/36074322]\n",
      "^C\n"
     ]
    }
   ],
   "source": [
    "#Train SS-predictor\n",
    "!python ./plmsearch/esm_ss_predict_tri_train.py \\\n",
    "-d \\\n",
    "-mer './plmsearch_data/esm_ss_predict/train/mean_esm_result_cpu.pkl' \\\n",
    "--save_model_path './example/ss_predictor/model_scop_tri_cpu.sav'"
   ]
  }
 ],
 "metadata": {
  "kernelspec": {
   "display_name": "ss_filter",
   "language": "python",
   "name": "python3"
  },
  "language_info": {
   "codemirror_mode": {
    "name": "ipython",
    "version": 3
   },
   "file_extension": ".py",
   "mimetype": "text/x-python",
   "name": "python",
   "nbconvert_exporter": "python",
   "pygments_lexer": "ipython3",
   "version": "3.8.16"
  },
  "orig_nbformat": 4,
  "vscode": {
   "interpreter": {
    "hash": "429db6f41fe5aa4e6e423245917e3903b08409fb24c735411a9cc8c963e18711"
   }
  }
 },
 "nbformat": 4,
 "nbformat_minor": 2
}
