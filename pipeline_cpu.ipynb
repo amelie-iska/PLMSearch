{
 "cells": [
  {
   "cell_type": "markdown",
   "metadata": {},
   "source": [
    "# Search your own data 🧪\n",
    "\n",
    "**Notice: The experiment are implement on a server with an `72-core Intel(R) Xeon(R) Gold 6240 CPU @ 2.60GHz and 503 GB RAM memory`.**\n",
    "\n",
    "## Quick links\n",
    "\n",
    "* [SS-sort(COS) pipeline](#1)\n",
    "  * [Search against self](#1-1)\n",
    "  * [Search against Swiss-Prot](#1-2)\n",
    "* [SS-filter pipeline](#2)\n",
    "  * [Search against self](#2-1)\n",
    "  * [Search against Swiss-Prot](#2-2)\n",
    "* [TM-align compute with Spark](#3)\n",
    "* [Start from Fasta (preprocessing)](#4)\n",
    "* [Train your own SS-predictor](#5)"
   ]
  },
  {
   "cell_type": "markdown",
   "metadata": {},
   "source": [
    "## SS-sort(COS) pipeline\n",
    "<span id=\"1\"></span>\n",
    "<div align=center><img src=\"scientist_figures/workflow_img/ss-sort(cos).png\" width=\"80%\" height=\"80%\" /></div>"
   ]
  },
  {
   "cell_type": "markdown",
   "metadata": {},
   "source": [
    "### 1. Search against self\n",
    "<span id=\"1-1\"></span>"
   ]
  },
  {
   "cell_type": "code",
   "execution_count": 14,
   "metadata": {},
   "outputs": [
    {
     "name": "stdout",
     "output_type": "stream",
     "text": [
      "None of GPU is selected.\n",
      "query protein list: 100%|█████████████████████| 5/5 [00:00<00:00, 119837.26it/s]\n",
      "\u001b[32m[I 221208 21:39:33 main_similarity:145]\u001b[39m Sort end.\n",
      "Esm embedding generate time cost: 0.07173991203308105 s\n"
     ]
    }
   ],
   "source": [
    "!python ./ss_filter/main_similarity.py \\\n",
    "-qer './example/query_mean_esm_result_cpu.pkl' \\\n",
    "-ter './example/query_mean_esm_result_cpu.pkl' \\\n",
    "-smp './ss_filter_data/esm_ss_predict/model_scop_tri.sav' \\\n",
    "-d \\\n",
    "-opr './example/ss_sort_cos_self'"
   ]
  },
  {
   "cell_type": "markdown",
   "metadata": {},
   "source": [
    "### 2. Search against Swiss-Prot\n",
    "<span id=\"1-2\"></span>"
   ]
  },
  {
   "cell_type": "code",
   "execution_count": 15,
   "metadata": {},
   "outputs": [
    {
     "name": "stdout",
     "output_type": "stream",
     "text": [
      "None of GPU is selected.\n",
      "query protein list: 100%|█████████████████████████| 5/5 [00:48<00:00,  9.65s/it]\n",
      "\u001b[32m[I 221208 21:40:48 main_similarity:145]\u001b[39m Sort end.\n",
      "Esm embedding generate time cost: 77.84056210517883 s\n"
     ]
    }
   ],
   "source": [
    "!python ./ss_filter/main_similarity.py \\\n",
    "-qer './example/query_mean_esm_result_cpu.pkl' \\\n",
    "-ter './ss_filter_data/swissprot_to_swissprot/target_mean_esm_result_cpu.pkl' \\\n",
    "-smp './ss_filter_data/esm_ss_predict/model_scop_tri.sav' \\\n",
    "-d \\\n",
    "-opr './example/ss_sort_cos_swissprot'"
   ]
  },
  {
   "cell_type": "markdown",
   "metadata": {},
   "source": [
    "## SS-filter pipeline\n",
    "<span id=\"2\"></span>\n",
    "<div align=center><img src=\"scientist_figures/workflow_img/main.png\" width=\"80%\" height=\"80%\" /></div>"
   ]
  },
  {
   "cell_type": "markdown",
   "metadata": {},
   "source": [
    "### 1. Search against self\n",
    "<span id=\"2-1\"></span>"
   ]
  },
  {
   "cell_type": "code",
   "execution_count": 16,
   "metadata": {},
   "outputs": [
    {
     "name": "stdout",
     "output_type": "stream",
     "text": [
      "\u001b[32m[I 221208 21:40:53 main_pfam:13]\u001b[39m query protein num = 5\n",
      "\u001b[32m[I 221208 21:40:53 main_pfam:14]\u001b[39m target protein num = 5\n",
      "query protein list: 100%|█████████████████████| 5/5 [00:00<00:00, 134432.82it/s]\n"
     ]
    }
   ],
   "source": [
    "#Step 1. generate pfamclan prefilter result\n",
    "!python ./ss_filter/main_pfam.py \\\n",
    "-qpr './example/query_pfam_result.json' \\\n",
    "-tpr './example/query_pfam_result.json' \\\n",
    "-c \\\n",
    "-opr './example/pfamclan_self'"
   ]
  },
  {
   "cell_type": "code",
   "execution_count": 17,
   "metadata": {},
   "outputs": [
    {
     "name": "stdout",
     "output_type": "stream",
     "text": [
      "None of GPU is selected.\n",
      "Get prefilter list: 5it [00:00, 32615.12it/s]\n",
      "\u001b[32m[I 221208 21:40:54 main_similarity:104]\u001b[39m prefilter num = 5\n",
      "query protein list: 100%|█████████████████████| 5/5 [00:00<00:00, 104335.92it/s]\n",
      "\u001b[32m[I 221208 21:40:54 main_similarity:145]\u001b[39m Sort end.\n",
      "Esm embedding generate time cost: 0.07499408721923828 s\n"
     ]
    }
   ],
   "source": [
    "#Step 2. ss-filter search\n",
    "!python ./ss_filter/main_similarity.py \\\n",
    "-qer './example/query_mean_esm_result_cpu.pkl' \\\n",
    "-ter './example/query_mean_esm_result_cpu.pkl' \\\n",
    "-smp './ss_filter_data/esm_ss_predict/model_scop_tri.sav' \\\n",
    "-ipr './example/pfamclan_self' \\\n",
    "-d \\\n",
    "-opr './example/ss_filter_self'"
   ]
  },
  {
   "cell_type": "markdown",
   "metadata": {},
   "source": [
    "### 2. Search against Swiss-Prot\n",
    "<span id=\"2-2\"></span>"
   ]
  },
  {
   "cell_type": "code",
   "execution_count": 18,
   "metadata": {},
   "outputs": [
    {
     "name": "stdout",
     "output_type": "stream",
     "text": [
      "\u001b[32m[I 221208 21:40:56 main_pfam:13]\u001b[39m query protein num = 5\n",
      "\u001b[32m[I 221208 21:40:56 main_pfam:14]\u001b[39m target protein num = 498654\n",
      "query protein list: 100%|█████████████████████████| 5/5 [00:00<00:00,  5.81it/s]\n"
     ]
    }
   ],
   "source": [
    "#Step 1. generate pfamclan prefilter result\n",
    "!python ./ss_filter/main_pfam.py \\\n",
    "-qpr './example/query_pfam_result.json' \\\n",
    "-tpr './ss_filter_data/swissprot_to_swissprot/target_pfam_result.json' \\\n",
    "-c \\\n",
    "-opr './example/pfamclan_swissprot'"
   ]
  },
  {
   "cell_type": "code",
   "execution_count": 19,
   "metadata": {},
   "outputs": [
    {
     "name": "stdout",
     "output_type": "stream",
     "text": [
      "None of GPU is selected.\n",
      "Get prefilter list: 19238it [00:00, 193275.07it/s]\n",
      "\u001b[32m[I 221208 21:41:23 main_similarity:104]\u001b[39m prefilter num = 19238\n",
      "query protein list: 100%|█████████████████████| 5/5 [00:00<00:00, 173318.35it/s]\n",
      "\u001b[32m[I 221208 21:41:23 main_similarity:145]\u001b[39m Sort end.\n",
      "Esm embedding generate time cost: 25.38034415245056 s\n"
     ]
    }
   ],
   "source": [
    "#Step 2. ss-filter search\n",
    "!python ./ss_filter/main_similarity.py \\\n",
    "-qer './example/query_mean_esm_result_cpu.pkl' \\\n",
    "-ter './ss_filter_data/swissprot_to_swissprot/target_mean_esm_result_cpu.pkl' \\\n",
    "-smp './ss_filter_data/esm_ss_predict/model_scop_tri.sav' \\\n",
    "-ipr './example/pfamclan_swissprot' \\\n",
    "-d \\\n",
    "-opr './example/ss_filter_swissprot'"
   ]
  },
  {
   "cell_type": "markdown",
   "metadata": {},
   "source": [
    "## TM-align compute with Spark\n",
    "<span id=\"3\"></span>\n",
    "<div align=center><img src=\"scientist_figures/workflow_img/tmalign_compute.png\" width=\"80%\" height=\"80%\" /></div>"
   ]
  },
  {
   "cell_type": "code",
   "execution_count": 20,
   "metadata": {},
   "outputs": [
    {
     "name": "stdout",
     "output_type": "stream",
     "text": [
      "/data1/lw/git_ss_filter/git_ss_filter/ss_filter/pytmalign\n",
      "running build_ext\n",
      "/data1/lw/git_ss_filter/git_ss_filter\n",
      "/data1/lw/git_ss_filter/git_ss_filter/ss_filter\n",
      "Get prefilter list: 6it [00:00, 62757.67it/s]\n",
      "100%|█████████████████████████████████████████| 6/6 [00:00<00:00, 285975.27it/s]\n",
      "Setting default log level to \"WARN\".\n",
      "To adjust logging level use sc.setLogLevel(newLevel). For SparkR, use setLogLevel(newLevel).\n",
      "22/12/08 21:41:28 WARN NativeCodeLoader: Unable to load native-hadoop library for your platform... using builtin-java classes where applicable\n",
      "22/12/08 21:41:28 WARN Utils: Service 'SparkUI' could not bind on port 4040. Attempting port 4041.\n",
      "Compute total time cost 5.4679858684539795 s                                    \n",
      "/data1/lw/git_ss_filter/git_ss_filter\n"
     ]
    }
   ],
   "source": [
    "#install\n",
    "%cd ./ss_filter/pytmalign/\n",
    "!python setup.py build_ext --inplace\n",
    "%cd ../..\n",
    "#tmalign compute with spark\n",
    "%cd ./ss_filter/\n",
    "!python tmalign_compute.py \\\n",
    "-qsd '../ss_filter_data/swissprot_to_swissprot/query_structure/' \\\n",
    "-tsd '../ss_filter_data/swissprot_to_swissprot/query_structure/' \\\n",
    "-ipr '../example/tmalign_compute/test' \\\n",
    "-s\n",
    "%cd .."
   ]
  },
  {
   "cell_type": "markdown",
   "metadata": {},
   "source": [
    "## Start from Fasta (preprocessing)\n",
    "<span id=\"4\"></span>"
   ]
  },
  {
   "cell_type": "markdown",
   "metadata": {},
   "source": [
    "### 1. Generate ESM-1b embedding"
   ]
  },
  {
   "cell_type": "code",
   "execution_count": 21,
   "metadata": {},
   "outputs": [
    {
     "name": "stdout",
     "output_type": "stream",
     "text": [
      "Read ./ss_filter_data/swissprot_to_swissprot/query_protein.fasta with 5 sequences\n",
      "Processing 1 of 1 batches (5 sequences)\n",
      "Esm embedding generate time cost: 14.700751781463623 s\n"
     ]
    }
   ],
   "source": [
    "#esm generate\n",
    "!python ./ss_filter/esm_generate.py \\\n",
    "-f './ss_filter_data/swissprot_to_swissprot/query_protein.fasta' \\\n",
    "-m './example/query_mean_esm_result_cpu.pkl' \\\n",
    "--nogpu"
   ]
  },
  {
   "cell_type": "markdown",
   "metadata": {},
   "source": [
    "### 2. Generate Pfam result"
   ]
  },
  {
   "cell_type": "code",
   "execution_count": 22,
   "metadata": {},
   "outputs": [
    {
     "name": "stdout",
     "output_type": "stream",
     "text": [
      "1670506908.0153909\n",
      "perl ./ss_filter_data/PfamScan/pfam_scan.pl -fasta ./ss_filter_data/swissprot_to_swissprot/query_protein.fasta -dir ./ss_filter_data/Pfam_db -outfile ./tmp.txt\n",
      "Pfam local generate time cost 1.7778055667877197 s\n"
     ]
    }
   ],
   "source": [
    "#pfam generate\n",
    "!python ./ss_filter/pfam_local_generate.py \\\n",
    "-f './ss_filter_data/swissprot_to_swissprot/query_protein.fasta' \\\n",
    "-o './example/query_pfam_result.json'"
   ]
  },
  {
   "cell_type": "markdown",
   "metadata": {},
   "source": [
    "## Train your own SS-predictor\n",
    "<span id=\"5\"></span>\n",
    "<div align=center><img src=\"scientist_figures/workflow_img/ss-predictor.png\" width=\"80%\" height=\"80%\" /></div>"
   ]
  },
  {
   "cell_type": "code",
   "execution_count": 24,
   "metadata": {},
   "outputs": [
    {
     "name": "stdout",
     "output_type": "stream",
     "text": [
      "None of GPU is selected.\n",
      "# training with esm_ss_predict_tri: ss_batch_size=100, epochs=20, lr=1e-05\n",
      "# save model path: ./example/ss_predictor/model_scop_tri_cpu.sav\n",
      "# loading esm result: ./ss_filter_data/esm_ss_predict/train/mean_esm_result_cpu.pkl\n",
      "# loading protein list file: ./ss_filter_data/esm_ss_predict/train/protein_list.txt\n",
      "# loading ss mat file: ./ss_filter_data/esm_ss_predict/train/ss_mat.npz\n",
      "\u001b[32m[I 221208 21:43:12 esm_ss_predict:44]\u001b[39m (8953, 8953) 40082581\n",
      "PPI: 100%|██████████████████████| 40082581/40082581 [01:52<00:00, 357002.92it/s]\n",
      "# loaded 40082581 sequence pairs\n",
      "# training model\n",
      "Epoch 1\n",
      "-------------------------------\n",
      "Train_mse_loss_avg: 0.049949  [    0/36074322]\n",
      "Train_mse_loss_avg: 0.006371  [10000/36074322]\n",
      "Train_mse_loss_avg: 0.005829  [20000/36074322]\n",
      "Train_mse_loss_avg: 0.006528  [30000/36074322]\n",
      "Train_mse_loss_avg: 0.005094  [40000/36074322]\n",
      "Train_mse_loss_avg: 0.002771  [50000/36074322]\n",
      "Train_mse_loss_avg: 0.001889  [60000/36074322]\n",
      "Train_mse_loss_avg: 0.003636  [70000/36074322]\n",
      "Train_mse_loss_avg: 0.002447  [80000/36074322]\n",
      "Train_mse_loss_avg: 0.007529  [90000/36074322]\n",
      "Train_mse_loss_avg: 0.003786  [100000/36074322]\n",
      "Train_mse_loss_avg: 0.003304  [110000/36074322]\n",
      "Train_mse_loss_avg: 0.002508  [120000/36074322]\n",
      "Train_mse_loss_avg: 0.004024  [130000/36074322]\n",
      "Train_mse_loss_avg: 0.005386  [140000/36074322]\n",
      "Train_mse_loss_avg: 0.001628  [150000/36074322]\n",
      "Train_mse_loss_avg: 0.002804  [160000/36074322]\n",
      "Train_mse_loss_avg: 0.001740  [170000/36074322]\n",
      "Train_mse_loss_avg: 0.003380  [180000/36074322]\n",
      "Train_mse_loss_avg: 0.002356  [190000/36074322]\n",
      "Train_mse_loss_avg: 0.002985  [200000/36074322]\n",
      "Train_mse_loss_avg: 0.001817  [210000/36074322]\n",
      "Train_mse_loss_avg: 0.002735  [220000/36074322]\n",
      "Train_mse_loss_avg: 0.003238  [230000/36074322]\n",
      "Train_mse_loss_avg: 0.002697  [240000/36074322]\n",
      "Train_mse_loss_avg: 0.002225  [250000/36074322]\n",
      "Train_mse_loss_avg: 0.002198  [260000/36074322]\n",
      "Train_mse_loss_avg: 0.002267  [270000/36074322]\n",
      "Train_mse_loss_avg: 0.004892  [280000/36074322]\n",
      "Train_mse_loss_avg: 0.001312  [290000/36074322]\n",
      "Train_mse_loss_avg: 0.002326  [300000/36074322]\n",
      "Train_mse_loss_avg: 0.003582  [310000/36074322]\n",
      "Train_mse_loss_avg: 0.003737  [320000/36074322]\n",
      "Train_mse_loss_avg: 0.001800  [330000/36074322]\n",
      "Train_mse_loss_avg: 0.002406  [340000/36074322]\n",
      "Train_mse_loss_avg: 0.001565  [350000/36074322]\n",
      "Train_mse_loss_avg: 0.003004  [360000/36074322]\n",
      "Train_mse_loss_avg: 0.001784  [370000/36074322]\n",
      "Train_mse_loss_avg: 0.001648  [380000/36074322]\n",
      "Train_mse_loss_avg: 0.002321  [390000/36074322]\n",
      "Train_mse_loss_avg: 0.003090  [400000/36074322]\n",
      "Train_mse_loss_avg: 0.001828  [410000/36074322]\n",
      "Train_mse_loss_avg: 0.001953  [420000/36074322]\n",
      "Train_mse_loss_avg: 0.001594  [430000/36074322]\n",
      "Train_mse_loss_avg: 0.002682  [440000/36074322]\n",
      "Train_mse_loss_avg: 0.000912  [450000/36074322]\n",
      "Train_mse_loss_avg: 0.001676  [460000/36074322]\n",
      "Train_mse_loss_avg: 0.002954  [470000/36074322]\n",
      "Train_mse_loss_avg: 0.001905  [480000/36074322]\n",
      "Train_mse_loss_avg: 0.001577  [490000/36074322]\n",
      "Train_mse_loss_avg: 0.001783  [500000/36074322]\n",
      "Train_mse_loss_avg: 0.002165  [510000/36074322]\n",
      "Train_mse_loss_avg: 0.001776  [520000/36074322]\n",
      "Train_mse_loss_avg: 0.002312  [530000/36074322]\n",
      "Train_mse_loss_avg: 0.001422  [540000/36074322]\n",
      "Train_mse_loss_avg: 0.001861  [550000/36074322]\n",
      "Train_mse_loss_avg: 0.001487  [560000/36074322]\n",
      "Train_mse_loss_avg: 0.002190  [570000/36074322]\n",
      "Train_mse_loss_avg: 0.002249  [580000/36074322]\n",
      "Train_mse_loss_avg: 0.001657  [590000/36074322]\n",
      "Train_mse_loss_avg: 0.001582  [600000/36074322]\n",
      "Train_mse_loss_avg: 0.002437  [610000/36074322]\n",
      "Train_mse_loss_avg: 0.001898  [620000/36074322]\n",
      "Train_mse_loss_avg: 0.001528  [630000/36074322]\n",
      "Train_mse_loss_avg: 0.002138  [640000/36074322]\n",
      "Train_mse_loss_avg: 0.002608  [650000/36074322]\n",
      "Train_mse_loss_avg: 0.001230  [660000/36074322]\n",
      "Train_mse_loss_avg: 0.001391  [670000/36074322]\n",
      "Train_mse_loss_avg: 0.001307  [680000/36074322]\n",
      "Train_mse_loss_avg: 0.003493  [690000/36074322]\n",
      "Train_mse_loss_avg: 0.002267  [700000/36074322]\n",
      "Train_mse_loss_avg: 0.001898  [710000/36074322]\n",
      "Train_mse_loss_avg: 0.001489  [720000/36074322]\n",
      "Train_mse_loss_avg: 0.002204  [730000/36074322]\n",
      "Train_mse_loss_avg: 0.003131  [740000/36074322]\n",
      "Train_mse_loss_avg: 0.001452  [750000/36074322]\n",
      "Train_mse_loss_avg: 0.002157  [760000/36074322]\n",
      "Train_mse_loss_avg: 0.003030  [770000/36074322]\n",
      "Train_mse_loss_avg: 0.001330  [780000/36074322]\n",
      "Train_mse_loss_avg: 0.003034  [790000/36074322]\n",
      "Train_mse_loss_avg: 0.002052  [800000/36074322]\n",
      "Train_mse_loss_avg: 0.001507  [810000/36074322]\n",
      "Train_mse_loss_avg: 0.002648  [820000/36074322]\n",
      "Train_mse_loss_avg: 0.001125  [830000/36074322]\n",
      "Train_mse_loss_avg: 0.001201  [840000/36074322]\n",
      "Train_mse_loss_avg: 0.002041  [850000/36074322]\n",
      "Train_mse_loss_avg: 0.001868  [860000/36074322]\n",
      "Train_mse_loss_avg: 0.001993  [870000/36074322]\n",
      "Train_mse_loss_avg: 0.001819  [880000/36074322]\n",
      "Train_mse_loss_avg: 0.001418  [890000/36074322]\n",
      "Train_mse_loss_avg: 0.001991  [900000/36074322]\n",
      "Train_mse_loss_avg: 0.001489  [910000/36074322]\n",
      "Train_mse_loss_avg: 0.001213  [920000/36074322]\n",
      "Train_mse_loss_avg: 0.001834  [930000/36074322]\n",
      "Train_mse_loss_avg: 0.001899  [940000/36074322]\n",
      "Train_mse_loss_avg: 0.001999  [950000/36074322]\n",
      "Train_mse_loss_avg: 0.002924  [960000/36074322]\n",
      "Train_mse_loss_avg: 0.001505  [970000/36074322]\n",
      "Train_mse_loss_avg: 0.001526  [980000/36074322]\n",
      "Train_mse_loss_avg: 0.001339  [990000/36074322]\n",
      "Train_mse_loss_avg: 0.002039  [1000000/36074322]\n",
      "Train_mse_loss_avg: 0.006920  [1010000/36074322]\n",
      "Train_mse_loss_avg: 0.001715  [1020000/36074322]\n",
      "Train_mse_loss_avg: 0.001563  [1030000/36074322]\n",
      "Train_mse_loss_avg: 0.001559  [1040000/36074322]\n",
      "Train_mse_loss_avg: 0.001795  [1050000/36074322]\n",
      "Train_mse_loss_avg: 0.001370  [1060000/36074322]\n",
      "Train_mse_loss_avg: 0.001212  [1070000/36074322]\n",
      "Train_mse_loss_avg: 0.001229  [1080000/36074322]\n",
      "Train_mse_loss_avg: 0.001368  [1090000/36074322]\n",
      "Train_mse_loss_avg: 0.001730  [1100000/36074322]\n",
      "Train_mse_loss_avg: 0.002085  [1110000/36074322]\n",
      "Train_mse_loss_avg: 0.001473  [1120000/36074322]\n",
      "Train_mse_loss_avg: 0.001232  [1130000/36074322]\n",
      "Train_mse_loss_avg: 0.001450  [1140000/36074322]\n",
      "Train_mse_loss_avg: 0.001299  [1150000/36074322]\n",
      "Train_mse_loss_avg: 0.002341  [1160000/36074322]\n",
      "Train_mse_loss_avg: 0.001148  [1170000/36074322]\n",
      "Train_mse_loss_avg: 0.002527  [1180000/36074322]\n",
      "Train_mse_loss_avg: 0.002199  [1190000/36074322]\n",
      "Train_mse_loss_avg: 0.001719  [1200000/36074322]\n",
      "Train_mse_loss_avg: 0.001521  [1210000/36074322]\n",
      "Train_mse_loss_avg: 0.001160  [1220000/36074322]\n",
      "Train_mse_loss_avg: 0.001243  [1230000/36074322]\n",
      "Train_mse_loss_avg: 0.002265  [1240000/36074322]\n",
      "Train_mse_loss_avg: 0.002798  [1250000/36074322]\n",
      "Train_mse_loss_avg: 0.000831  [1260000/36074322]\n",
      "Train_mse_loss_avg: 0.001604  [1270000/36074322]\n",
      "Train_mse_loss_avg: 0.002589  [1280000/36074322]\n",
      "Train_mse_loss_avg: 0.001779  [1290000/36074322]\n",
      "Train_mse_loss_avg: 0.004791  [1300000/36074322]\n",
      "Train_mse_loss_avg: 0.002436  [1310000/36074322]\n",
      "Train_mse_loss_avg: 0.001326  [1320000/36074322]\n",
      "Train_mse_loss_avg: 0.001244  [1330000/36074322]\n",
      "Train_mse_loss_avg: 0.001233  [1340000/36074322]\n",
      "Train_mse_loss_avg: 0.001542  [1350000/36074322]\n",
      "Train_mse_loss_avg: 0.001236  [1360000/36074322]\n",
      "Train_mse_loss_avg: 0.001578  [1370000/36074322]\n",
      "Train_mse_loss_avg: 0.001807  [1380000/36074322]\n",
      "Train_mse_loss_avg: 0.001519  [1390000/36074322]\n",
      "Train_mse_loss_avg: 0.001207  [1400000/36074322]\n",
      "Train_mse_loss_avg: 0.002006  [1410000/36074322]\n",
      "Train_mse_loss_avg: 0.001793  [1420000/36074322]\n",
      "Train_mse_loss_avg: 0.001409  [1430000/36074322]\n",
      "Train_mse_loss_avg: 0.001330  [1440000/36074322]\n",
      "Train_mse_loss_avg: 0.002184  [1450000/36074322]\n",
      "Train_mse_loss_avg: 0.001101  [1460000/36074322]\n",
      "Train_mse_loss_avg: 0.001335  [1470000/36074322]\n",
      "Train_mse_loss_avg: 0.001561  [1480000/36074322]\n",
      "Train_mse_loss_avg: 0.002039  [1490000/36074322]\n",
      "Train_mse_loss_avg: 0.001867  [1500000/36074322]\n",
      "Train_mse_loss_avg: 0.001615  [1510000/36074322]\n",
      "Train_mse_loss_avg: 0.001324  [1520000/36074322]\n",
      "Train_mse_loss_avg: 0.002758  [1530000/36074322]\n",
      "Train_mse_loss_avg: 0.001532  [1540000/36074322]\n",
      "Train_mse_loss_avg: 0.002053  [1550000/36074322]\n",
      "Train_mse_loss_avg: 0.004626  [1560000/36074322]\n",
      "Train_mse_loss_avg: 0.004920  [1570000/36074322]\n",
      "Train_mse_loss_avg: 0.001222  [1580000/36074322]\n",
      "Train_mse_loss_avg: 0.001295  [1590000/36074322]\n",
      "Train_mse_loss_avg: 0.001871  [1600000/36074322]\n",
      "Train_mse_loss_avg: 0.006053  [1610000/36074322]\n",
      "Train_mse_loss_avg: 0.001448  [1620000/36074322]\n",
      "Train_mse_loss_avg: 0.001335  [1630000/36074322]\n",
      "Train_mse_loss_avg: 0.001390  [1640000/36074322]\n",
      "Train_mse_loss_avg: 0.001198  [1650000/36074322]\n",
      "Train_mse_loss_avg: 0.001801  [1660000/36074322]\n",
      "Train_mse_loss_avg: 0.002951  [1670000/36074322]\n",
      "Train_mse_loss_avg: 0.001620  [1680000/36074322]\n",
      "Train_mse_loss_avg: 0.003346  [1690000/36074322]\n",
      "Train_mse_loss_avg: 0.001982  [1700000/36074322]\n",
      "Train_mse_loss_avg: 0.001217  [1710000/36074322]\n",
      "Train_mse_loss_avg: 0.001235  [1720000/36074322]\n",
      "Train_mse_loss_avg: 0.001800  [1730000/36074322]\n",
      "Train_mse_loss_avg: 0.002225  [1740000/36074322]\n",
      "Train_mse_loss_avg: 0.001492  [1750000/36074322]\n",
      "Train_mse_loss_avg: 0.002460  [1760000/36074322]\n",
      "Train_mse_loss_avg: 0.001367  [1770000/36074322]\n",
      "Train_mse_loss_avg: 0.001605  [1780000/36074322]\n",
      "Train_mse_loss_avg: 0.001544  [1790000/36074322]\n",
      "Train_mse_loss_avg: 0.001333  [1800000/36074322]\n",
      "Train_mse_loss_avg: 0.002178  [1810000/36074322]\n",
      "Train_mse_loss_avg: 0.001746  [1820000/36074322]\n",
      "Train_mse_loss_avg: 0.002682  [1830000/36074322]\n",
      "Train_mse_loss_avg: 0.001117  [1840000/36074322]\n",
      "Train_mse_loss_avg: 0.001413  [1850000/36074322]\n",
      "Train_mse_loss_avg: 0.001819  [1860000/36074322]\n",
      "Train_mse_loss_avg: 0.001118  [1870000/36074322]\n",
      "Train_mse_loss_avg: 0.002919  [1880000/36074322]\n",
      "Train_mse_loss_avg: 0.001609  [1890000/36074322]\n",
      "Train_mse_loss_avg: 0.001813  [1900000/36074322]\n",
      "Train_mse_loss_avg: 0.001612  [1910000/36074322]\n",
      "Train_mse_loss_avg: 0.002160  [1920000/36074322]\n",
      "Train_mse_loss_avg: 0.000883  [1930000/36074322]\n",
      "Train_mse_loss_avg: 0.001319  [1940000/36074322]\n",
      "Train_mse_loss_avg: 0.001479  [1950000/36074322]\n",
      "Train_mse_loss_avg: 0.001419  [1960000/36074322]\n",
      "Train_mse_loss_avg: 0.001501  [1970000/36074322]\n",
      "Train_mse_loss_avg: 0.001076  [1980000/36074322]\n",
      "Train_mse_loss_avg: 0.002658  [1990000/36074322]\n",
      "Train_mse_loss_avg: 0.001012  [2000000/36074322]\n",
      "Train_mse_loss_avg: 0.001712  [2010000/36074322]\n",
      "Train_mse_loss_avg: 0.001365  [2020000/36074322]\n",
      "Train_mse_loss_avg: 0.000952  [2030000/36074322]\n",
      "Train_mse_loss_avg: 0.001446  [2040000/36074322]\n",
      "Train_mse_loss_avg: 0.001209  [2050000/36074322]\n",
      "Train_mse_loss_avg: 0.001626  [2060000/36074322]\n",
      "Train_mse_loss_avg: 0.001473  [2070000/36074322]\n",
      "Train_mse_loss_avg: 0.001417  [2080000/36074322]\n",
      "Train_mse_loss_avg: 0.001551  [2090000/36074322]\n",
      "Train_mse_loss_avg: 0.000888  [2100000/36074322]\n",
      "Train_mse_loss_avg: 0.001327  [2110000/36074322]\n",
      "Train_mse_loss_avg: 0.001020  [2120000/36074322]\n",
      "Train_mse_loss_avg: 0.001212  [2130000/36074322]\n",
      "Train_mse_loss_avg: 0.001023  [2140000/36074322]\n",
      "Train_mse_loss_avg: 0.001491  [2150000/36074322]\n",
      "Train_mse_loss_avg: 0.000931  [2160000/36074322]\n",
      "Train_mse_loss_avg: 0.001424  [2170000/36074322]\n",
      "Train_mse_loss_avg: 0.001631  [2180000/36074322]\n",
      "Train_mse_loss_avg: 0.001130  [2190000/36074322]\n",
      "Train_mse_loss_avg: 0.001062  [2200000/36074322]\n",
      "Train_mse_loss_avg: 0.002460  [2210000/36074322]\n",
      "Train_mse_loss_avg: 0.002367  [2220000/36074322]\n",
      "Train_mse_loss_avg: 0.001598  [2230000/36074322]\n",
      "Train_mse_loss_avg: 0.001214  [2240000/36074322]\n",
      "Train_mse_loss_avg: 0.001149  [2250000/36074322]\n",
      "Train_mse_loss_avg: 0.001534  [2260000/36074322]\n",
      "Train_mse_loss_avg: 0.001875  [2270000/36074322]\n",
      "Train_mse_loss_avg: 0.002138  [2280000/36074322]\n",
      "Train_mse_loss_avg: 0.001165  [2290000/36074322]\n",
      "Train_mse_loss_avg: 0.001420  [2300000/36074322]\n",
      "Train_mse_loss_avg: 0.001381  [2310000/36074322]\n",
      "Train_mse_loss_avg: 0.000990  [2320000/36074322]\n",
      "Train_mse_loss_avg: 0.002339  [2330000/36074322]\n",
      "Train_mse_loss_avg: 0.002558  [2340000/36074322]\n",
      "Train_mse_loss_avg: 0.001241  [2350000/36074322]\n",
      "Train_mse_loss_avg: 0.001503  [2360000/36074322]\n",
      "Train_mse_loss_avg: 0.002025  [2370000/36074322]\n",
      "Train_mse_loss_avg: 0.001169  [2380000/36074322]\n",
      "Train_mse_loss_avg: 0.001794  [2390000/36074322]\n",
      "Train_mse_loss_avg: 0.001094  [2400000/36074322]\n",
      "Train_mse_loss_avg: 0.000903  [2410000/36074322]\n",
      "Train_mse_loss_avg: 0.000981  [2420000/36074322]\n",
      "Train_mse_loss_avg: 0.001005  [2430000/36074322]\n",
      "Train_mse_loss_avg: 0.001221  [2440000/36074322]\n",
      "Train_mse_loss_avg: 0.001505  [2450000/36074322]\n",
      "Train_mse_loss_avg: 0.001114  [2460000/36074322]\n",
      "Train_mse_loss_avg: 0.001434  [2470000/36074322]\n",
      "Train_mse_loss_avg: 0.001316  [2480000/36074322]\n",
      "Train_mse_loss_avg: 0.004852  [2490000/36074322]\n",
      "Train_mse_loss_avg: 0.001280  [2500000/36074322]\n",
      "Train_mse_loss_avg: 0.001280  [2510000/36074322]\n",
      "Train_mse_loss_avg: 0.001177  [2520000/36074322]\n",
      "Train_mse_loss_avg: 0.002437  [2530000/36074322]\n",
      "Train_mse_loss_avg: 0.001483  [2540000/36074322]\n",
      "Train_mse_loss_avg: 0.001288  [2550000/36074322]\n",
      "Train_mse_loss_avg: 0.002828  [2560000/36074322]\n",
      "Train_mse_loss_avg: 0.000935  [2570000/36074322]\n",
      "Train_mse_loss_avg: 0.001371  [2580000/36074322]\n",
      "Train_mse_loss_avg: 0.000923  [2590000/36074322]\n",
      "Train_mse_loss_avg: 0.001395  [2600000/36074322]\n",
      "Train_mse_loss_avg: 0.001205  [2610000/36074322]\n",
      "Train_mse_loss_avg: 0.001154  [2620000/36074322]\n",
      "Train_mse_loss_avg: 0.001208  [2630000/36074322]\n",
      "Train_mse_loss_avg: 0.001209  [2640000/36074322]\n",
      "Train_mse_loss_avg: 0.001704  [2650000/36074322]\n",
      "Train_mse_loss_avg: 0.001241  [2660000/36074322]\n",
      "Train_mse_loss_avg: 0.001114  [2670000/36074322]\n",
      "Train_mse_loss_avg: 0.001082  [2680000/36074322]\n",
      "Train_mse_loss_avg: 0.001327  [2690000/36074322]\n",
      "Train_mse_loss_avg: 0.000887  [2700000/36074322]\n",
      "Train_mse_loss_avg: 0.001301  [2710000/36074322]\n",
      "Train_mse_loss_avg: 0.001704  [2720000/36074322]\n",
      "Train_mse_loss_avg: 0.000955  [2730000/36074322]\n",
      "Train_mse_loss_avg: 0.001050  [2740000/36074322]\n",
      "Train_mse_loss_avg: 0.001672  [2750000/36074322]\n",
      "Train_mse_loss_avg: 0.001213  [2760000/36074322]\n",
      "Train_mse_loss_avg: 0.001237  [2770000/36074322]\n",
      "Train_mse_loss_avg: 0.001168  [2780000/36074322]\n",
      "Train_mse_loss_avg: 0.001255  [2790000/36074322]\n",
      "Train_mse_loss_avg: 0.001421  [2800000/36074322]\n",
      "Train_mse_loss_avg: 0.001052  [2810000/36074322]\n",
      "Train_mse_loss_avg: 0.001195  [2820000/36074322]\n",
      "Train_mse_loss_avg: 0.001257  [2830000/36074322]\n",
      "Train_mse_loss_avg: 0.001230  [2840000/36074322]\n",
      "Train_mse_loss_avg: 0.001176  [2850000/36074322]\n",
      "Train_mse_loss_avg: 0.001236  [2860000/36074322]\n",
      "Train_mse_loss_avg: 0.001647  [2870000/36074322]\n",
      "Train_mse_loss_avg: 0.001378  [2880000/36074322]\n",
      "Train_mse_loss_avg: 0.001333  [2890000/36074322]\n",
      "Train_mse_loss_avg: 0.001186  [2900000/36074322]\n",
      "Train_mse_loss_avg: 0.001309  [2910000/36074322]\n",
      "Train_mse_loss_avg: 0.001407  [2920000/36074322]\n",
      "Train_mse_loss_avg: 0.002027  [2930000/36074322]\n",
      "Train_mse_loss_avg: 0.001168  [2940000/36074322]\n",
      "Train_mse_loss_avg: 0.001269  [2950000/36074322]\n",
      "Train_mse_loss_avg: 0.001196  [2960000/36074322]\n",
      "Train_mse_loss_avg: 0.001221  [2970000/36074322]\n",
      "Train_mse_loss_avg: 0.001608  [2980000/36074322]\n",
      "Train_mse_loss_avg: 0.004282  [2990000/36074322]\n",
      "Train_mse_loss_avg: 0.001155  [3000000/36074322]\n",
      "Train_mse_loss_avg: 0.001712  [3010000/36074322]\n",
      "Train_mse_loss_avg: 0.001071  [3020000/36074322]\n",
      "Train_mse_loss_avg: 0.001327  [3030000/36074322]\n",
      "Train_mse_loss_avg: 0.001273  [3040000/36074322]\n",
      "Train_mse_loss_avg: 0.001286  [3050000/36074322]\n",
      "Train_mse_loss_avg: 0.001503  [3060000/36074322]\n",
      "Train_mse_loss_avg: 0.001338  [3070000/36074322]\n",
      "Train_mse_loss_avg: 0.001572  [3080000/36074322]\n",
      "Train_mse_loss_avg: 0.001619  [3090000/36074322]\n",
      "Train_mse_loss_avg: 0.001394  [3100000/36074322]\n",
      "Train_mse_loss_avg: 0.001013  [3110000/36074322]\n",
      "Train_mse_loss_avg: 0.001160  [3120000/36074322]\n",
      "Train_mse_loss_avg: 0.001305  [3130000/36074322]\n",
      "Train_mse_loss_avg: 0.001637  [3140000/36074322]\n",
      "Train_mse_loss_avg: 0.001094  [3150000/36074322]\n",
      "Train_mse_loss_avg: 0.001196  [3160000/36074322]\n",
      "Train_mse_loss_avg: 0.000823  [3170000/36074322]\n",
      "Train_mse_loss_avg: 0.001368  [3180000/36074322]\n",
      "Train_mse_loss_avg: 0.001117  [3190000/36074322]\n",
      "Train_mse_loss_avg: 0.001020  [3200000/36074322]\n",
      "Train_mse_loss_avg: 0.001488  [3210000/36074322]\n",
      "Train_mse_loss_avg: 0.001518  [3220000/36074322]\n",
      "Train_mse_loss_avg: 0.001214  [3230000/36074322]\n",
      "Train_mse_loss_avg: 0.001976  [3240000/36074322]\n",
      "^C\n"
     ]
    }
   ],
   "source": [
    "#Train SS-predictor\n",
    "!python ./ss_filter/esm_ss_predict_tri_train.py \\\n",
    "-d \\\n",
    "-mer './ss_filter_data/esm_ss_predict/train/mean_esm_result_cpu.pkl' \\\n",
    "--save_model_path './example/ss_predictor/model_scop_tri_cpu.sav'"
   ]
  }
 ],
 "metadata": {
  "kernelspec": {
   "display_name": "Python 3.8.15 ('ss_filter_try')",
   "language": "python",
   "name": "python3"
  },
  "language_info": {
   "codemirror_mode": {
    "name": "ipython",
    "version": 3
   },
   "file_extension": ".py",
   "mimetype": "text/x-python",
   "name": "python",
   "nbconvert_exporter": "python",
   "pygments_lexer": "ipython3",
   "version": "3.8.15"
  },
  "orig_nbformat": 4,
  "vscode": {
   "interpreter": {
    "hash": "bdbb37e28040d4db3da6bed34cdd51004f5852578e094f0f92879b317fc43b78"
   }
  }
 },
 "nbformat": 4,
 "nbformat_minor": 2
}
